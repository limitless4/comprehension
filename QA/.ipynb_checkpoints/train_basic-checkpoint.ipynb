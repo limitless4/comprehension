{
 "cells": [
  {
   "cell_type": "code",
   "execution_count": 1,
   "metadata": {
    "collapsed": false
   },
   "outputs": [],
   "source": [
    "import numpy as np;\n",
    "import tensorflow as tf\n",
    "from numpy import *"
   ]
  },
  {
   "cell_type": "code",
   "execution_count": 2,
   "metadata": {
    "collapsed": false,
    "scrolled": true
   },
   "outputs": [],
   "source": [
    "#question\n",
    "glove_matrix  = np.load(\"glove.npy\")\n",
    "vocab = np.fromfile(\"vocab.dat\",dtype=float)\n",
    "question_file = open(\"question_id.txt\");\n",
    "question_string = question_file.read();\n",
    "questions = question_string.split(\"\\n\")\n",
    "q_train=np.zeros((size(questions),100))\n",
    "for i in range(size(questions)):\n",
    "    st = questions[i].split(\" \");\n",
    "    st = list(map(int, st)) \n",
    "    q_train[i] =np.sum(glove_matrix[[st]],axis = 0)"
   ]
  },
  {
   "cell_type": "code",
   "execution_count": 3,
   "metadata": {
    "collapsed": false
   },
   "outputs": [],
   "source": [
    "#comprehension\n",
    "context_file = open(\"context_id.txt\");\n",
    "context_string = context_file.read();\n",
    "contexts = context_string.split(\"\\n\")\n",
    "#size(contexts)\n",
    "stc= [];\n",
    "c_train=np.zeros((size(contexts),100))\n",
    "for i in range(size(contexts)):\n",
    "    st1 = contexts[i].split(\" \");\n",
    "    stc.append(list(map(int, st1)));\n",
    "    c_train[i] =np.sum(glove_matrix[[stc[i]]],axis = 0)"
   ]
  },
  {
   "cell_type": "code",
   "execution_count": 4,
   "metadata": {
    "collapsed": false,
    "scrolled": true
   },
   "outputs": [],
   "source": [
    "#answer\n",
    "answer_file = open(\"span.txt\");\n",
    "answer_string = answer_file.read();\n",
    "answers = answer_string.split(\"\\n\")\n",
    "a_train=np.zeros((size(answers),100))\n",
    "for i in range(size(contexts)):\n",
    "    ans = answers[i].split(\" \");\n",
    "    ans1 = list(map(int, ans)) \n",
    "    st_answer = stc[i][ans1[0]:ans1[1]+1]\n",
    "    a_train[i] =np.sum(glove_matrix[st_answer],axis = 0)"
   ]
  },
  {
   "cell_type": "code",
   "execution_count": 5,
   "metadata": {
    "collapsed": false,
    "scrolled": true
   },
   "outputs": [
    {
     "data": {
      "text/plain": [
       "(81404, 200)"
      ]
     },
     "execution_count": 5,
     "metadata": {},
     "output_type": "execute_result"
    }
   ],
   "source": [
    "train = np.concatenate((c_train, q_train), axis=1)\n",
    "c_train.shape\n",
    "q_train.shape\n",
    "train.shape "
   ]
  },
  {
   "cell_type": "code",
   "execution_count": 6,
   "metadata": {
    "collapsed": true
   },
   "outputs": [],
   "source": [
    "def multilayer_perceptron(x, weights, biases, keep_prob):\n",
    "    layer_1 = tf.add(tf.matmul(x, weights['h1']), biases['b1'])\n",
    "    layer_1 = tf.nn.relu(layer_1)\n",
    "    layer_1 = tf.nn.dropout(layer_1, keep_prob)\n",
    "    out_layer = tf.matmul(layer_1, weights['out']) + biases['out']\n",
    "    return out_layer"
   ]
  },
  {
   "cell_type": "code",
   "execution_count": 7,
   "metadata": {
    "collapsed": false
   },
   "outputs": [],
   "source": [
    "n_hidden_1 = 20\n",
    "n_input = train.shape[1]\n",
    "n_classes = a_train.shape[1]\n",
    "\n",
    "weights = {\n",
    "    'h1': tf.Variable(tf.random_normal([n_input, n_hidden_1])),\n",
    "    'out': tf.Variable(tf.random_normal([n_hidden_1, n_classes]))\n",
    "}\n",
    "\n",
    "biases = {\n",
    "    'b1': tf.Variable(tf.random_normal([n_hidden_1])),\n",
    "    'out': tf.Variable(tf.random_normal([n_classes]))\n",
    "}\n",
    "\n",
    "keep_prob = tf.placeholder(\"float\")"
   ]
  },
  {
   "cell_type": "code",
   "execution_count": 8,
   "metadata": {
    "collapsed": true
   },
   "outputs": [],
   "source": [
    "training_epochs = 500\n",
    "display_step = 100\n",
    "batch_size = 20\n",
    "\n",
    "x = tf.placeholder(\"float\", [None, n_input])\n",
    "y = tf.placeholder(\"float\", [None, n_classes])"
   ]
  },
  {
   "cell_type": "code",
   "execution_count": 9,
   "metadata": {
    "collapsed": true
   },
   "outputs": [],
   "source": [
    "predictions = multilayer_perceptron(x, weights, biases, keep_prob)\n",
    "cost = tf.reduce_mean(tf.nn.softmax_cross_entropy_with_logits(logits=predictions, labels=y))"
   ]
  },
  {
   "cell_type": "code",
   "execution_count": null,
   "metadata": {
    "collapsed": true
   },
   "outputs": [],
   "source": [
    "optimizer = tf.train.AdamOptimizer(learning_rate=0.0001).minimize(cost)"
   ]
  },
  {
   "cell_type": "code",
   "execution_count": null,
   "metadata": {
    "collapsed": false
   },
   "outputs": [
    {
     "name": "stdout",
     "output_type": "stream",
     "text": [
      "73263\n",
      "Epoch: 0001 cost= -25.484502569\n"
     ]
    }
   ],
   "source": [
    "x_train1 = train\n",
    "y_train1 = a_train\n",
    "train_size = 0.9\n",
    "train_cnt = int(floor(x_train1.shape[0] * train_size))\n",
    "print(train_cnt)\n",
    "x_train = x_train1[0:train_cnt]\n",
    "y_train = y_train1[0:train_cnt]\n",
    "x_test = x_train[train_cnt:]\n",
    "y_test = y_train[train_cnt:]\n",
    "with tf.Session() as sess:\n",
    "    sess.run(tf.global_variables_initializer())\n",
    "    \n",
    "    for epoch in range(training_epochs):\n",
    "        avg_cost = 0.0\n",
    "        total_batch = int(len(x_train) / batch_size)\n",
    "        x_batches = np.array_split(x_train, total_batch)\n",
    "        y_batches = np.array_split(y_train, total_batch)\n",
    "        for i in range(total_batch):\n",
    "            batch_x, batch_y = x_batches[i], y_batches[i]\n",
    "            _, c = sess.run([optimizer, cost], \n",
    "                            feed_dict={\n",
    "                                x: batch_x, \n",
    "                                y: batch_y, \n",
    "                                keep_prob: 0.8\n",
    "                            })\n",
    "            avg_cost += c / total_batch\n",
    "        if epoch % display_step == 0:\n",
    "            print(\"Epoch:\", '%04d' % (epoch+1), \"cost=\", \\\n",
    "                \"{:.9f}\".format(avg_cost))\n",
    "        print(epoch)\n",
    "    print(\"Optimization Finished!\")\n",
    "\n",
    "    correct_prediction = tf.equal(tf.argmax(predictions, 1), tf.argmax(y, 1))\n",
    "    accuracy = tf.reduce_mean(tf.cast(correct_prediction, \"float\"))\n",
    "    print(\"Accuracy:\", accuracy.eval({x: x_test, y: y_test, keep_prob: 1.0}))"
   ]
  }
 ],
 "metadata": {
  "kernelspec": {
   "display_name": "Python 3",
   "language": "python",
   "name": "python3"
  },
  "language_info": {
   "codemirror_mode": {
    "name": "ipython",
    "version": 3
   },
   "file_extension": ".py",
   "mimetype": "text/x-python",
   "name": "python",
   "nbconvert_exporter": "python",
   "pygments_lexer": "ipython3",
   "version": "3.5.4"
  }
 },
 "nbformat": 4,
 "nbformat_minor": 2
}
